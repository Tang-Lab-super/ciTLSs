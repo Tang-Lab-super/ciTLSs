{
 "cells": [
  {
   "cell_type": "markdown",
   "id": "07543c13-36d1-43a7-9e8f-9f82e84db2e3",
   "metadata": {},
   "source": [
    "# Related to Figure 5d"
   ]
  },
  {
   "cell_type": "code",
   "execution_count": 4,
   "id": "98ba63c5-4aef-4bf5-a5d9-f6d7246fe3c0",
   "metadata": {},
   "outputs": [],
   "source": [
    "import pandas as pd\n",
    "import numpy as np\n",
    "from scipy import stats\n",
    "import seaborn as sns\n",
    "import matplotlib.pyplot as plt\n",
    "import os\n",
    "\n",
    "\n",
    "dic_color = dict(zip(['B', 'T', 'Plasma', 'Myeloid', 'Endothelial', 'Fibroblast', 'Hepatocyte', 'Tumor', 'pDC'], ['#008000','#cac0e7','#ED8A3F','#6a60a9','#1f78b4','#df65b0','#efe9ce', '#ff0000', '#756bb1']  ))\n",
    "\n",
    "df_try_value = pd.read_csv('/data/yuchen_data/Stereo_seq/All_Figures/version2/Figure5/1.data/5c.data.txt', index_col=0, sep='\\t')\n",
    "\n",
    "\n",
    "df_mature = df_try_value[df_try_value['TLS_expand_11_group']=='Mature']\n",
    "df_deviating = df_try_value[df_try_value['TLS_expand_11_group']=='Deviating']\n",
    "\n",
    "# hypergeometric test\n",
    "target_genes = ['AADAT','ACMSD','AFMID','HAAO','IDO1','IDO2','KMO','KYAT1','KYNU','TDO2','ATP7A','GCDH','ACE2','SLC36A4','SLC3A2','SLC7A5','SLC7A8','AANAT','ACAT1','ACAT2','ALDH1B1','ALDH2','ALDH3A2','ALDH7A1','ALDH9A1','AOC1','AOX1','ASMT','CAT','CYP1A1','CYP1A2','CYP1B1','DDC','ECHS1','EHHADH','HADH','HADHA','IL4I1','INMT','MAOA','MAOB','OGDH','OGDHL','TPH1','TPH2','WARS1','WARS2','KYAT3','ALDH1A1','ALDH1A2','CYP19A1','CYP2A13','CYP2C18','CYP2E1','CYP2F1','CYP2J2','CYP3A4','CYP4F12','CYP7B1','DHCR24','HSD17B10','PRMT1','SLC6A19','CLTRN','SLC16A10','SLC15A1','SLC15A2','SLC1A5','SLC7A11','SLC6A14','SLC1A4','SLC6A9','SLC38A2','SLC7A1']\n",
    "\n",
    "dic = {}\n",
    "for ct in df_try_value['SpotLight_Anno'].unique():\n",
    "    df_de = pd.read_csv(f'/data/yuchen_data/Stereo_seq/All_Figures/version2/Figure5/1.data/DEG.{ct}.txt', index_col=0, sep='\\t')\n",
    "    df_de = df_de[(df_de['p_val']<0.05) & (df_de['cluster']=='Deviating')]\n",
    "    degenes = df_de.index\n",
    "    overlap_genes = set(degenes) & set(target_genes)\n",
    "    p = stats.hypergeom.pmf(len(overlap_genes), 31344, len(target_genes), len(degenes))\n",
    "    dic[ct] = (len(overlap_genes), p)\n",
    "\n",
    "used_cts = df_try_value['SpotLight_Anno'].unique()\n"
   ]
  },
  {
   "cell_type": "code",
   "execution_count": 7,
   "id": "5c273ed8-a34f-4591-b1c9-f0aee3fb813f",
   "metadata": {},
   "outputs": [],
   "source": [
    "df_mature = df_mature[['SpotLight_Anno', 'KEGG_TRYPTOPHAN_METABOLISM']]\n",
    "df_deviating = df_deviating[['SpotLight_Anno', 'KEGG_TRYPTOPHAN_METABOLISM']]"
   ]
  },
  {
   "cell_type": "code",
   "execution_count": 8,
   "id": "582d3db2-2069-4a5b-b1b4-30efb0716b40",
   "metadata": {},
   "outputs": [
    {
     "data": {
      "image/png": "[encoded data removed]",
      "text/plain": [
       "<Figure size 200x200 with 1 Axes>"
      ]
     },
     "metadata": {},
     "output_type": "display_data"
    }
   ],
   "source": [
    "df_mature_rst = pd.DataFrame(df_mature.groupby('SpotLight_Anno').agg('mean')['KEGG_TRYPTOPHAN_METABOLISM']).reindex(used_cts)\n",
    "df_deviating_rst = pd.DataFrame(df_deviating.groupby('SpotLight_Anno').agg('mean')['KEGG_TRYPTOPHAN_METABOLISM']).reindex(used_cts)\n",
    "\n",
    "\n",
    "df_plot = pd.DataFrame(df_deviating_rst['KEGG_TRYPTOPHAN_METABOLISM'] - df_mature_rst['KEGG_TRYPTOPHAN_METABOLISM'])\t\n",
    "df_plot.columns = ['Diff.Tryptophan']\n",
    "# df_plot = pd.DataFrame(df_try_value['diff'].values, index=df_try_value.index, columns=['Diff.Tryptophan'])\n",
    "df_plot['No.genes'] = [x[0] for x in df_plot.index.map(dic)]\n",
    "df_plot['-log10p'] = [-np.log10(x[1]) for x in df_plot.index.map(dic)]\n",
    "\n",
    "df_plot['group'] = df_plot.index\n",
    "df_plot.sort_values('Diff.Tryptophan', ascending=False, inplace=True)\n",
    "df_plot['plot_idx'] = range(df_plot.shape[0])\n",
    "\n",
    "# df_plot\n",
    "\n",
    "from mycolorpy import colorlist as mcp\n",
    "from matplotlib.colors import ListedColormap, LinearSegmentedColormap\n",
    "colors = mcp.gen_color(cmap=\"Reds\",n=20)[4:16]\n",
    "my_cmap = LinearSegmentedColormap.from_list(\"mycmap\", colors)\n",
    "\n",
    "fig, ax = plt.subplots(figsize=(2, 2))\n",
    "ax.scatter(x=df_plot['plot_idx'], y=df_plot['Diff.Tryptophan'], c=df_plot['-log10p'], s=df_plot['No.genes']*3, cmap=my_cmap)\n",
    "ax.set_xticks(df_plot['plot_idx'], df_plot['group'], rotation=90)\n",
    "plt.hlines(0, -0.5, 5.5)\n",
    "ax.set_xlim(-0.5, 5.5)\n",
    "# sns.scatterplot(data=df_plot, x='plot_idx', y='Diff.Tryptophan', size='No.genes', hue='group', palette=dic_color, legend=True)\n",
    "plt.show()"
   ]
  },
  {
   "cell_type": "code",
   "execution_count": null,
   "id": "e0f9f956-7586-4bca-bf6e-61d3b6e6ecae",
   "metadata": {},
   "outputs": [],
   "source": []
  }
 ],
 "metadata": {
  "kernelspec": {
   "display_name": "Python 3 (ipykernel)",
   "language": "python",
   "name": "python3"
  },
  "language_info": {
   "codemirror_mode": {
    "name": "ipython",
    "version": 3
   },
   "file_extension": ".py",
   "mimetype": "text/x-python",
   "name": "python",
   "nbconvert_exporter": "python",
   "pygments_lexer": "ipython3",
   "version": "3.8.16"
  }
 },
 "nbformat": 4,
 "nbformat_minor": 5
}
