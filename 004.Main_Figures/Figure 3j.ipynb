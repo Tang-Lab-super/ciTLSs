{
 "cells": [
  {
   "cell_type": "markdown",
   "id": "87053906-84d1-4df5-9172-15192e15bb46",
   "metadata": {},
   "source": [
    "# Related to figure 3j"
   ]
  },
  {
   "cell_type": "code",
   "execution_count": 1,
   "id": "ce84fae8-146b-4791-9036-99b52933d840",
   "metadata": {},
   "outputs": [],
   "source": [
    "import numpy as np\n",
    "import pandas as pd\n",
    "import matplotlib.pyplot as plt\n",
    "import seaborn as sns"
   ]
  },
  {
   "cell_type": "code",
   "execution_count": 6,
   "id": "ab977795-c039-4054-a8b3-ec35fb761f6e",
   "metadata": {},
   "outputs": [
    {
     "data": {
      "text/html": [
       "<div>\n",
       "<style scoped>\n",
       "    .dataframe tbody tr th:only-of-type {\n",
       "        vertical-align: middle;\n",
       "    }\n",
       "\n",
       "    .dataframe tbody tr th {\n",
       "        vertical-align: top;\n",
       "    }\n",
       "\n",
       "    .dataframe thead th {\n",
       "        text-align: right;\n",
       "    }\n",
       "</style>\n",
       "<table border=\"1\" class=\"dataframe\">\n",
       "  <thead>\n",
       "    <tr style=\"text-align: right;\">\n",
       "      <th></th>\n",
       "      <th>Cluster_0</th>\n",
       "      <th>Cluster_1</th>\n",
       "      <th>ct</th>\n",
       "      <th>diff</th>\n",
       "      <th>TLS_maturity</th>\n",
       "      <th>sample</th>\n",
       "      <th>TLS_final</th>\n",
       "    </tr>\n",
       "  </thead>\n",
       "  <tbody>\n",
       "    <tr>\n",
       "      <th>ST2772B_BIN.18239</th>\n",
       "      <td>0.000199</td>\n",
       "      <td>0.000429</td>\n",
       "      <td>Cluster_1</td>\n",
       "      <td>0.000230</td>\n",
       "      <td>Conforming</td>\n",
       "      <td>ST2772B</td>\n",
       "      <td>ST2772B_1</td>\n",
       "    </tr>\n",
       "    <tr>\n",
       "      <th>ST2772B_BIN.18769</th>\n",
       "      <td>0.000441</td>\n",
       "      <td>0.000542</td>\n",
       "      <td>Cluster_1</td>\n",
       "      <td>0.000101</td>\n",
       "      <td>Conforming</td>\n",
       "      <td>ST2772B</td>\n",
       "      <td>ST2772B_1</td>\n",
       "    </tr>\n",
       "    <tr>\n",
       "      <th>ST2772B_BIN.20888</th>\n",
       "      <td>0.000035</td>\n",
       "      <td>0.000879</td>\n",
       "      <td>Cluster_1</td>\n",
       "      <td>0.000845</td>\n",
       "      <td>Conforming</td>\n",
       "      <td>ST2772B</td>\n",
       "      <td>ST2772B_1</td>\n",
       "    </tr>\n",
       "    <tr>\n",
       "      <th>ST2772B_BIN.20889</th>\n",
       "      <td>0.000384</td>\n",
       "      <td>0.000188</td>\n",
       "      <td>Cluster_0</td>\n",
       "      <td>0.000196</td>\n",
       "      <td>Conforming</td>\n",
       "      <td>ST2772B</td>\n",
       "      <td>ST2772B_1</td>\n",
       "    </tr>\n",
       "    <tr>\n",
       "      <th>ST2772B_BIN.22481</th>\n",
       "      <td>0.000798</td>\n",
       "      <td>0.000256</td>\n",
       "      <td>Cluster_0</td>\n",
       "      <td>0.000542</td>\n",
       "      <td>Conforming</td>\n",
       "      <td>ST2772B</td>\n",
       "      <td>ST2772B_1</td>\n",
       "    </tr>\n",
       "    <tr>\n",
       "      <th>...</th>\n",
       "      <td>...</td>\n",
       "      <td>...</td>\n",
       "      <td>...</td>\n",
       "      <td>...</td>\n",
       "      <td>...</td>\n",
       "      <td>...</td>\n",
       "      <td>...</td>\n",
       "    </tr>\n",
       "    <tr>\n",
       "      <th>ST2976T_BIN.243513</th>\n",
       "      <td>0.000341</td>\n",
       "      <td>0.000176</td>\n",
       "      <td>Cluster_0</td>\n",
       "      <td>0.000166</td>\n",
       "      <td>Mature</td>\n",
       "      <td>ST2976T</td>\n",
       "      <td>ST2976T_31</td>\n",
       "    </tr>\n",
       "    <tr>\n",
       "      <th>ST2976T_BIN.245108</th>\n",
       "      <td>0.000109</td>\n",
       "      <td>0.000370</td>\n",
       "      <td>Cluster_1</td>\n",
       "      <td>0.000262</td>\n",
       "      <td>Mature</td>\n",
       "      <td>ST2976T</td>\n",
       "      <td>ST2976T_31</td>\n",
       "    </tr>\n",
       "    <tr>\n",
       "      <th>ST2976T_BIN.245634</th>\n",
       "      <td>0.000147</td>\n",
       "      <td>0.000161</td>\n",
       "      <td>Cluster_1</td>\n",
       "      <td>0.000013</td>\n",
       "      <td>Mature</td>\n",
       "      <td>ST2976T</td>\n",
       "      <td>ST2976T_31</td>\n",
       "    </tr>\n",
       "    <tr>\n",
       "      <th>ST2976T_BIN.245636</th>\n",
       "      <td>0.000114</td>\n",
       "      <td>0.000292</td>\n",
       "      <td>Cluster_1</td>\n",
       "      <td>0.000178</td>\n",
       "      <td>Mature</td>\n",
       "      <td>ST2976T</td>\n",
       "      <td>ST2976T_31</td>\n",
       "    </tr>\n",
       "    <tr>\n",
       "      <th>ST2976T_BIN.248813</th>\n",
       "      <td>0.000158</td>\n",
       "      <td>0.000270</td>\n",
       "      <td>Cluster_1</td>\n",
       "      <td>0.000112</td>\n",
       "      <td>Mature</td>\n",
       "      <td>ST2976T</td>\n",
       "      <td>ST2976T_31</td>\n",
       "    </tr>\n",
       "  </tbody>\n",
       "</table>\n",
       "<p>2551 rows × 7 columns</p>\n",
       "</div>"
      ],
      "text/plain": [
       "                    Cluster_0  Cluster_1         ct      diff TLS_maturity  \\\n",
       "ST2772B_BIN.18239    0.000199   0.000429  Cluster_1  0.000230   Conforming   \n",
       "ST2772B_BIN.18769    0.000441   0.000542  Cluster_1  0.000101   Conforming   \n",
       "ST2772B_BIN.20888    0.000035   0.000879  Cluster_1  0.000845   Conforming   \n",
       "ST2772B_BIN.20889    0.000384   0.000188  Cluster_0  0.000196   Conforming   \n",
       "ST2772B_BIN.22481    0.000798   0.000256  Cluster_0  0.000542   Conforming   \n",
       "...                       ...        ...        ...       ...          ...   \n",
       "ST2976T_BIN.243513   0.000341   0.000176  Cluster_0  0.000166       Mature   \n",
       "ST2976T_BIN.245108   0.000109   0.000370  Cluster_1  0.000262       Mature   \n",
       "ST2976T_BIN.245634   0.000147   0.000161  Cluster_1  0.000013       Mature   \n",
       "ST2976T_BIN.245636   0.000114   0.000292  Cluster_1  0.000178       Mature   \n",
       "ST2976T_BIN.248813   0.000158   0.000270  Cluster_1  0.000112       Mature   \n",
       "\n",
       "                     sample   TLS_final  \n",
       "ST2772B_BIN.18239   ST2772B   ST2772B_1  \n",
       "ST2772B_BIN.18769   ST2772B   ST2772B_1  \n",
       "ST2772B_BIN.20888   ST2772B   ST2772B_1  \n",
       "ST2772B_BIN.20889   ST2772B   ST2772B_1  \n",
       "ST2772B_BIN.22481   ST2772B   ST2772B_1  \n",
       "...                     ...         ...  \n",
       "ST2976T_BIN.243513  ST2976T  ST2976T_31  \n",
       "ST2976T_BIN.245108  ST2976T  ST2976T_31  \n",
       "ST2976T_BIN.245634  ST2976T  ST2976T_31  \n",
       "ST2976T_BIN.245636  ST2976T  ST2976T_31  \n",
       "ST2976T_BIN.248813  ST2976T  ST2976T_31  \n",
       "\n",
       "[2551 rows x 7 columns]"
      ]
     },
     "execution_count": 6,
     "metadata": {},
     "output_type": "execute_result"
    }
   ],
   "source": [
    "df_final = pd.read_csv('/data/yuchen_data/Stereo_seq/All_Figures/Figure3/1.data/tangram.rst.txt', index_col=0, sep='\\t')\n",
    "df_final"
   ]
  },
  {
   "cell_type": "code",
   "execution_count": 16,
   "id": "b2f5e75d-81eb-4cb6-a105-88b5b1d41d1f",
   "metadata": {},
   "outputs": [
    {
     "data": {
      "text/html": [
       "<div>\n",
       "<style scoped>\n",
       "    .dataframe tbody tr th:only-of-type {\n",
       "        vertical-align: middle;\n",
       "    }\n",
       "\n",
       "    .dataframe tbody tr th {\n",
       "        vertical-align: top;\n",
       "    }\n",
       "\n",
       "    .dataframe thead th {\n",
       "        text-align: right;\n",
       "    }\n",
       "</style>\n",
       "<table border=\"1\" class=\"dataframe\">\n",
       "  <thead>\n",
       "    <tr style=\"text-align: right;\">\n",
       "      <th>ct</th>\n",
       "      <th>Cluster_0</th>\n",
       "      <th>Cluster_1</th>\n",
       "    </tr>\n",
       "    <tr>\n",
       "      <th>TLS_maturity</th>\n",
       "      <th></th>\n",
       "      <th></th>\n",
       "    </tr>\n",
       "  </thead>\n",
       "  <tbody>\n",
       "    <tr>\n",
       "      <th>Mature</th>\n",
       "      <td>538</td>\n",
       "      <td>301</td>\n",
       "    </tr>\n",
       "    <tr>\n",
       "      <th>Deviating</th>\n",
       "      <td>167</td>\n",
       "      <td>308</td>\n",
       "    </tr>\n",
       "  </tbody>\n",
       "</table>\n",
       "</div>"
      ],
      "text/plain": [
       "ct            Cluster_0  Cluster_1\n",
       "TLS_maturity                      \n",
       "Mature              538        301\n",
       "Deviating           167        308"
      ]
     },
     "execution_count": 16,
     "metadata": {},
     "output_type": "execute_result"
    }
   ],
   "source": [
    "df_rst = pd.crosstab(df_final.TLS_maturity, df_final.ct)\n",
    "df_rst = df_rst.reindex(['Mature', 'Deviating'])\n",
    "df_rst"
   ]
  },
  {
   "cell_type": "code",
   "execution_count": 19,
   "id": "b70af691-bf85-41bc-8eb9-e676a221d341",
   "metadata": {},
   "outputs": [
    {
     "name": "stdout",
     "output_type": "stream",
     "text": [
      "Chi2ContingencyResult(statistic=101.17327908690336, pvalue=8.427861489942538e-24, dof=1, expected_freq=array([[450.14840183, 388.85159817],\n",
      "       [254.85159817, 220.14840183]]))\n"
     ]
    }
   ],
   "source": [
    "from  scipy.stats import chi2_contingency\n",
    "\n",
    "kt = chi2_contingency(df_rst)\n",
    "print(kt)"
   ]
  },
  {
   "cell_type": "code",
   "execution_count": 20,
   "id": "d960bc66-ef58-41af-9cd3-057038cb9790",
   "metadata": {},
   "outputs": [
    {
     "data": {
      "text/html": [
       "<div>\n",
       "<style scoped>\n",
       "    .dataframe tbody tr th:only-of-type {\n",
       "        vertical-align: middle;\n",
       "    }\n",
       "\n",
       "    .dataframe tbody tr th {\n",
       "        vertical-align: top;\n",
       "    }\n",
       "\n",
       "    .dataframe thead th {\n",
       "        text-align: right;\n",
       "    }\n",
       "</style>\n",
       "<table border=\"1\" class=\"dataframe\">\n",
       "  <thead>\n",
       "    <tr style=\"text-align: right;\">\n",
       "      <th>ct</th>\n",
       "      <th>Cluster_0</th>\n",
       "      <th>Cluster_1</th>\n",
       "    </tr>\n",
       "    <tr>\n",
       "      <th>TLS_maturity</th>\n",
       "      <th></th>\n",
       "      <th></th>\n",
       "    </tr>\n",
       "  </thead>\n",
       "  <tbody>\n",
       "    <tr>\n",
       "      <th>Mature</th>\n",
       "      <td>0.641240</td>\n",
       "      <td>0.358760</td>\n",
       "    </tr>\n",
       "    <tr>\n",
       "      <th>Deviating</th>\n",
       "      <td>0.351579</td>\n",
       "      <td>0.648421</td>\n",
       "    </tr>\n",
       "  </tbody>\n",
       "</table>\n",
       "</div>"
      ],
      "text/plain": [
       "ct            Cluster_0  Cluster_1\n",
       "TLS_maturity                      \n",
       "Mature         0.641240   0.358760\n",
       "Deviating      0.351579   0.648421"
      ]
     },
     "execution_count": 20,
     "metadata": {},
     "output_type": "execute_result"
    }
   ],
   "source": [
    "df_rst = df_rst.T\n",
    "df_rst = df_rst/df_rst.sum()\n",
    "df_rst = df_rst.T\n",
    "df_rst"
   ]
  },
  {
   "cell_type": "code",
   "execution_count": 21,
   "id": "51407f11-581d-4455-b84c-38923fbe5c7f",
   "metadata": {},
   "outputs": [
    {
     "data": {
      "text/plain": [
       "<Figure size 640x480 with 0 Axes>"
      ]
     },
     "metadata": {},
     "output_type": "display_data"
    },
    {
     "data": {
      "image/png": "[encoded data removed]",
      "text/plain": [
       "<Figure size 400x600 with 1 Axes>"
      ]
     },
     "metadata": {},
     "output_type": "display_data"
    }
   ],
   "source": [
    "plt.figure()\n",
    "df_rst.plot.bar(stacked=True, figsize=(4, 6), width=0.9, linewidth=0.5, legend=False, edgecolor='black', color={'Cluster_0': '#e4007f', 'Cluster_1': '#00a559'})\n",
    "plt.show()"
   ]
  },
  {
   "cell_type": "code",
   "execution_count": null,
   "id": "ad4ebf25-dace-4f61-accd-1ad50d056284",
   "metadata": {},
   "outputs": [],
   "source": []
  }
 ],
 "metadata": {
  "kernelspec": {
   "display_name": "Python 3 (ipykernel)",
   "language": "python",
   "name": "python3"
  },
  "language_info": {
   "codemirror_mode": {
    "name": "ipython",
    "version": 3
   },
   "file_extension": ".py",
   "mimetype": "text/x-python",
   "name": "python",
   "nbconvert_exporter": "python",
   "pygments_lexer": "ipython3",
   "version": "3.8.16"
  }
 },
 "nbformat": 4,
 "nbformat_minor": 5
}
