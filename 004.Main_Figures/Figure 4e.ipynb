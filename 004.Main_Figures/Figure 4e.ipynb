{
 "cells": [
  {
   "cell_type": "markdown",
   "id": "9d4be418-2eda-4066-90ae-5a7431809c3a",
   "metadata": {},
   "source": [
    "# Related to figure 4e"
   ]
  },
  {
   "cell_type": "code",
   "execution_count": 1,
   "id": "3d96e7af-3122-4061-9bd0-58e83039102c",
   "metadata": {},
   "outputs": [],
   "source": [
    "import pandas as pd\n",
    "import numpy as np\n",
    "from scipy import stats\n",
    "import seaborn as sns\n",
    "import matplotlib.pyplot as plt\n",
    "import os\n",
    "\n",
    "os.chdir('/data/yuchen_data/Stereo_seq/All_Figures/Figure4/1.data/1.panelE')"
   ]
  },
  {
   "cell_type": "code",
   "execution_count": 2,
   "id": "8e86fd39-efa3-4187-b716-ce8e6c61895d",
   "metadata": {},
   "outputs": [
    {
     "data": {
      "text/html": [
       "<div>\n",
       "<style scoped>\n",
       "    .dataframe tbody tr th:only-of-type {\n",
       "        vertical-align: middle;\n",
       "    }\n",
       "\n",
       "    .dataframe tbody tr th {\n",
       "        vertical-align: top;\n",
       "    }\n",
       "\n",
       "    .dataframe thead th {\n",
       "        text-align: right;\n",
       "    }\n",
       "</style>\n",
       "<table border=\"1\" class=\"dataframe\">\n",
       "  <thead>\n",
       "    <tr style=\"text-align: right;\">\n",
       "      <th></th>\n",
       "      <th>Deviating</th>\n",
       "      <th>Mature</th>\n",
       "      <th>diff</th>\n",
       "    </tr>\n",
       "  </thead>\n",
       "  <tbody>\n",
       "    <tr>\n",
       "      <th>B</th>\n",
       "      <td>-0.024727</td>\n",
       "      <td>-0.038896</td>\n",
       "      <td>0.014169</td>\n",
       "    </tr>\n",
       "    <tr>\n",
       "      <th>T</th>\n",
       "      <td>-0.020595</td>\n",
       "      <td>-0.039022</td>\n",
       "      <td>0.018427</td>\n",
       "    </tr>\n",
       "    <tr>\n",
       "      <th>Myeloid</th>\n",
       "      <td>-0.035742</td>\n",
       "      <td>-0.038644</td>\n",
       "      <td>0.002902</td>\n",
       "    </tr>\n",
       "    <tr>\n",
       "      <th>Endothelial</th>\n",
       "      <td>-0.027712</td>\n",
       "      <td>-0.051488</td>\n",
       "      <td>0.023776</td>\n",
       "    </tr>\n",
       "    <tr>\n",
       "      <th>Fibroblast</th>\n",
       "      <td>-0.017245</td>\n",
       "      <td>-0.049050</td>\n",
       "      <td>0.031805</td>\n",
       "    </tr>\n",
       "    <tr>\n",
       "      <th>Tumor</th>\n",
       "      <td>0.013767</td>\n",
       "      <td>-0.031115</td>\n",
       "      <td>0.044881</td>\n",
       "    </tr>\n",
       "  </tbody>\n",
       "</table>\n",
       "</div>"
      ],
      "text/plain": [
       "             Deviating    Mature      diff\n",
       "B            -0.024727 -0.038896  0.014169\n",
       "T            -0.020595 -0.039022  0.018427\n",
       "Myeloid      -0.035742 -0.038644  0.002902\n",
       "Endothelial  -0.027712 -0.051488  0.023776\n",
       "Fibroblast   -0.017245 -0.049050  0.031805\n",
       "Tumor         0.013767 -0.031115  0.044881"
      ]
     },
     "execution_count": 2,
     "metadata": {},
     "output_type": "execute_result"
    }
   ],
   "source": [
    "dic_color = dict(zip(['B', 'T', 'Plasma', 'Myeloid', 'Endothelial', 'Fibroblast', 'Hepatocyte', 'Tumor', 'pDC'], ['#008000','#cac0e7','#ED8A3F','#6a60a9','#1f78b4','#df65b0','#efe9ce', '#ff0000', '#756bb1']  ))\n",
    "\n",
    "df_try_value = pd.read_csv('Try_metabolism.diff.txt', sep='\\t')\n",
    "df_try_value"
   ]
  },
  {
   "cell_type": "code",
   "execution_count": 3,
   "id": "76469ae9-643c-4683-a49f-056b671b4b48",
   "metadata": {},
   "outputs": [
    {
     "data": {
      "text/plain": [
       "{'B': (11, 9.093948344386208e-08),\n",
       " 'T': (10, 4.3201952083459854e-07),\n",
       " 'Myeloid': (7, 0.0002837283851742512),\n",
       " 'Endothelial': (12, 1.6097427330253516e-08),\n",
       " 'Fibroblast': (10, 3.0174036115281276e-10),\n",
       " 'Tumor': (20, 4.754567795155847e-13)}"
      ]
     },
     "execution_count": 3,
     "metadata": {},
     "output_type": "execute_result"
    }
   ],
   "source": [
    "# hypergeometric test\n",
    "target_genes = ['AADAT','ACMSD','AFMID','HAAO','IDO1','IDO2','KMO','KYAT1','KYNU','TDO2','ATP7A','GCDH','ACE2','SLC36A4','SLC3A2','SLC7A5','SLC7A8','AANAT','ACAT1','ACAT2','ALDH1B1','ALDH2','ALDH3A2','ALDH7A1','ALDH9A1','AOC1','AOX1','ASMT','CAT','CYP1A1','CYP1A2','CYP1B1','DDC','ECHS1','EHHADH','HADH','HADHA','IL4I1','INMT','MAOA','MAOB','OGDH','OGDHL','TPH1','TPH2','WARS1','WARS2','KYAT3','ALDH1A1','ALDH1A2','CYP19A1','CYP2A13','CYP2C18','CYP2E1','CYP2F1','CYP2J2','CYP3A4','CYP4F12','CYP7B1','DHCR24','HSD17B10','PRMT1','SLC6A19','CLTRN','SLC16A10','SLC15A1','SLC15A2','SLC1A5','SLC7A11','SLC6A14','SLC1A4','SLC6A9','SLC38A2','SLC7A1']\n",
    "\n",
    "dic = {}\n",
    "for ct in df_try_value.index:\n",
    "    df_de = pd.read_csv(f'DEG.{ct}.txt', index_col=0, sep='\\t')\n",
    "    df_de = df_de[(df_de['p_val']<0.05) & (df_de['cluster']=='NotMature')]\n",
    "    degenes = df_de.index\n",
    "    overlap_genes = set(degenes) & set(target_genes)\n",
    "    p = stats.hypergeom.pmf(len(overlap_genes), 31344, len(target_genes), len(degenes))\n",
    "    dic[ct] = (len(overlap_genes), p)\n",
    "\n",
    "dic"
   ]
  },
  {
   "cell_type": "code",
   "execution_count": 4,
   "id": "27dbfb3a-b9e2-4931-95c1-5803c022ecda",
   "metadata": {},
   "outputs": [
    {
     "data": {
      "text/html": [
       "<div>\n",
       "<style scoped>\n",
       "    .dataframe tbody tr th:only-of-type {\n",
       "        vertical-align: middle;\n",
       "    }\n",
       "\n",
       "    .dataframe tbody tr th {\n",
       "        vertical-align: top;\n",
       "    }\n",
       "\n",
       "    .dataframe thead th {\n",
       "        text-align: right;\n",
       "    }\n",
       "</style>\n",
       "<table border=\"1\" class=\"dataframe\">\n",
       "  <thead>\n",
       "    <tr style=\"text-align: right;\">\n",
       "      <th></th>\n",
       "      <th>Diff.Tryptophan</th>\n",
       "      <th>No.genes</th>\n",
       "      <th>-log10p</th>\n",
       "      <th>group</th>\n",
       "      <th>plot_idx</th>\n",
       "    </tr>\n",
       "  </thead>\n",
       "  <tbody>\n",
       "    <tr>\n",
       "      <th>Tumor</th>\n",
       "      <td>0.044881</td>\n",
       "      <td>20</td>\n",
       "      <td>12.322889</td>\n",
       "      <td>Tumor</td>\n",
       "      <td>0</td>\n",
       "    </tr>\n",
       "    <tr>\n",
       "      <th>Fibroblast</th>\n",
       "      <td>0.031805</td>\n",
       "      <td>10</td>\n",
       "      <td>9.520367</td>\n",
       "      <td>Fibroblast</td>\n",
       "      <td>1</td>\n",
       "    </tr>\n",
       "    <tr>\n",
       "      <th>Endothelial</th>\n",
       "      <td>0.023776</td>\n",
       "      <td>12</td>\n",
       "      <td>7.793244</td>\n",
       "      <td>Endothelial</td>\n",
       "      <td>2</td>\n",
       "    </tr>\n",
       "    <tr>\n",
       "      <th>T</th>\n",
       "      <td>0.018427</td>\n",
       "      <td>10</td>\n",
       "      <td>6.364497</td>\n",
       "      <td>T</td>\n",
       "      <td>3</td>\n",
       "    </tr>\n",
       "    <tr>\n",
       "      <th>B</th>\n",
       "      <td>0.014169</td>\n",
       "      <td>11</td>\n",
       "      <td>7.041248</td>\n",
       "      <td>B</td>\n",
       "      <td>4</td>\n",
       "    </tr>\n",
       "    <tr>\n",
       "      <th>Myeloid</th>\n",
       "      <td>0.002902</td>\n",
       "      <td>7</td>\n",
       "      <td>3.547097</td>\n",
       "      <td>Myeloid</td>\n",
       "      <td>5</td>\n",
       "    </tr>\n",
       "  </tbody>\n",
       "</table>\n",
       "</div>"
      ],
      "text/plain": [
       "             Diff.Tryptophan  No.genes    -log10p        group  plot_idx\n",
       "Tumor               0.044881        20  12.322889        Tumor         0\n",
       "Fibroblast          0.031805        10   9.520367   Fibroblast         1\n",
       "Endothelial         0.023776        12   7.793244  Endothelial         2\n",
       "T                   0.018427        10   6.364497            T         3\n",
       "B                   0.014169        11   7.041248            B         4\n",
       "Myeloid             0.002902         7   3.547097      Myeloid         5"
      ]
     },
     "execution_count": 4,
     "metadata": {},
     "output_type": "execute_result"
    }
   ],
   "source": [
    "df_plot = pd.DataFrame(df_try_value['diff'].values, index=df_try_value.index, columns=['Diff.Tryptophan'])\n",
    "df_plot['No.genes'] = [x[0] for x in df_plot.index.map(dic)]\n",
    "df_plot['-log10p'] = [-np.log10(x[1]) for x in df_plot.index.map(dic)]\n",
    "\n",
    "df_plot['group'] = df_plot.index\n",
    "df_plot.sort_values('Diff.Tryptophan', ascending=False, inplace=True)\n",
    "df_plot['plot_idx'] = range(df_plot.shape[0])\n",
    "\n",
    "df_plot"
   ]
  },
  {
   "cell_type": "code",
   "execution_count": 12,
   "id": "8f798501-3f2e-4788-8462-84ee59e9f538",
   "metadata": {},
   "outputs": [
    {
     "data": {
      "image/png": "[encoded data removed]",
      "text/plain": [
       "<Figure size 200x200 with 1 Axes>"
      ]
     },
     "metadata": {},
     "output_type": "display_data"
    }
   ],
   "source": [
    "# plt.figure(figsize=(2, 2))\n",
    "# ax = sns.scatterplot(data=df_plot, x='No.genes', y='Diff.Tryptophan', size='-log10p', hue='group', palette=dic_color, legend=True)\n",
    "# plt.savefig('fig8.scatterplot.legend.v2.pdf', bbox_inches='tight')\n",
    "\n",
    "# plt.figure(figsize=(2, 2))\n",
    "# ax = sns.scatterplot(data=df_plot, x='No.genes', y='Diff.Tryptophan', size='-log10p', hue='group', palette=dic_color, legend=False)\n",
    "# plt.savefig('fig8.scatterplot.nolegend.v2.pdf', bbox_inches='tight')\n",
    "\n",
    "from mycolorpy import colorlist as mcp\n",
    "from matplotlib.colors import ListedColormap, LinearSegmentedColormap\n",
    "colors = mcp.gen_color(cmap=\"Reds\",n=20)[4:16]\n",
    "my_cmap = LinearSegmentedColormap.from_list(\"mycmap\", colors)\n",
    "\n",
    "fig, ax = plt.subplots(figsize=(2, 2))\n",
    "ax.scatter(x=df_plot['plot_idx'], y=df_plot['Diff.Tryptophan'], c=df_plot['-log10p'], s=df_plot['No.genes']*3, cmap=my_cmap)\n",
    "ax.set_xticks(df_plot['plot_idx'], df_plot['group'], rotation=90)\n",
    "plt.hlines(0, -0.5, 5.5)\n",
    "ax.set_xlim(-0.5, 5.5)\n",
    "# sns.scatterplot(data=df_plot, x='plot_idx', y='Diff.Tryptophan', size='No.genes', hue='group', palette=dic_color, legend=True)\n",
    "plt.show()"
   ]
  }
 ],
 "metadata": {
  "kernelspec": {
   "display_name": "Python 3 (ipykernel)",
   "language": "python",
   "name": "python3"
  },
  "language_info": {
   "codemirror_mode": {
    "name": "ipython",
    "version": 3
   },
   "file_extension": ".py",
   "mimetype": "text/x-python",
   "name": "python",
   "nbconvert_exporter": "python",
   "pygments_lexer": "ipython3",
   "version": "3.8.16"
  }
 },
 "nbformat": 4,
 "nbformat_minor": 5
}
