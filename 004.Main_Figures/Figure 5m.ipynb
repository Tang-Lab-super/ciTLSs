{
 "cells": [
  {
   "cell_type": "markdown",
   "id": "9fe0bcb8-8620-4103-87b1-8b06894e062d",
   "metadata": {},
   "source": [
    "# Related to figure 5m"
   ]
  },
  {
   "cell_type": "code",
   "execution_count": 9,
   "id": "ffd8fc05-ee5e-4c09-ba45-eceba9a0edc6",
   "metadata": {},
   "outputs": [],
   "source": [
    "import pandas as pd\n",
    "import matplotlib.pyplot as plt\n",
    "import seaborn as sns\n",
    "from scipy.stats import ttest_ind\n",
    "import numpy as np\n",
    "from statannot import add_stat_annotation\n",
    "\n",
    "df_group = pd.read_csv('/data/yuchen_data/Stereo_seq/All_Figures/Figure2/1.data/TLS_group.1125.txt', index_col=0, sep='\\t')\n",
    "dist_path = '/data/yuchen_data/Stereo_seq/All_Figures/Figure4/1.data/3.Distance_to_TLS/'\n",
    "tangram_path = '/data/yuchen_data/Stereo_seq/All_Figures/Figure4/1.data/2.tangram_result/'\n",
    "HCC_meta_path = \"/data/yuchen_data/Stereo_seq/All_Figures/Figure4/1.data/HCC_metadata_Final/\"\n",
    "\n",
    "dic_tls_group = dict(zip(df_group.index, df_group.Group))\n",
    "\n",
    "samplelist2 = [\"ST2907T\",\"ST2907B\",\"ST2740P\",\"ST2772B\",\"ST2772P\",\"ST2772T\",\"ST2837B\",\"ST2846B\",\"ST2846P\",\"ST2893B\",\"ST2893P\",\"ST2893T\",\"ST2896P\",\"ST2903B\",\"ST2931B\",\"ST2931P\",\"ST2931T\",\"ST2903P\",\"ST2976T\", \"ST2976B\"]"
   ]
  },
  {
   "cell_type": "markdown",
   "id": "9cbf1beb-2a0d-4b8d-824d-55862f3455d8",
   "metadata": {},
   "source": [
    "### scRNA-seq"
   ]
  },
  {
   "cell_type": "code",
   "execution_count": 2,
   "id": "94dcdd8e-65a4-418a-bf75-707fc913fc93",
   "metadata": {},
   "outputs": [
    {
     "name": "stderr",
     "output_type": "stream",
     "text": [
      "/tmp/ipykernel_5123/4184098786.py:9: DtypeWarning: Columns (9) have mixed types. Specify dtype option on import or set low_memory=False.\n",
      "  df_meta = pd.read_csv(f'{HCC_meta_path}/{sample}_metadata_final.txt', index_col=0, sep='\\t')\n",
      "/tmp/ipykernel_5123/4184098786.py:9: DtypeWarning: Columns (9) have mixed types. Specify dtype option on import or set low_memory=False.\n",
      "  df_meta = pd.read_csv(f'{HCC_meta_path}/{sample}_metadata_final.txt', index_col=0, sep='\\t')\n",
      "/tmp/ipykernel_5123/4184098786.py:9: DtypeWarning: Columns (9) have mixed types. Specify dtype option on import or set low_memory=False.\n",
      "  df_meta = pd.read_csv(f'{HCC_meta_path}/{sample}_metadata_final.txt', index_col=0, sep='\\t')\n",
      "/tmp/ipykernel_5123/4184098786.py:9: DtypeWarning: Columns (9) have mixed types. Specify dtype option on import or set low_memory=False.\n",
      "  df_meta = pd.read_csv(f'{HCC_meta_path}/{sample}_metadata_final.txt', index_col=0, sep='\\t')\n",
      "/tmp/ipykernel_5123/4184098786.py:9: DtypeWarning: Columns (9) have mixed types. Specify dtype option on import or set low_memory=False.\n",
      "  df_meta = pd.read_csv(f'{HCC_meta_path}/{sample}_metadata_final.txt', index_col=0, sep='\\t')\n",
      "/tmp/ipykernel_5123/4184098786.py:9: DtypeWarning: Columns (9) have mixed types. Specify dtype option on import or set low_memory=False.\n",
      "  df_meta = pd.read_csv(f'{HCC_meta_path}/{sample}_metadata_final.txt', index_col=0, sep='\\t')\n"
     ]
    }
   ],
   "source": [
    "######### 只选取Tumor的TLS以及Tumor区域的Bin\n",
    "df_tls_location = pd.read_csv('/data/yuchen_data/Stereo_seq/All_Figures/Figure4/1.data/TLS_location_file_version3.csv', index_col=0, sep=',')\n",
    "all_tumor_tls = df_tls_location.index[df_tls_location['location_Label2']=='T']\n",
    "\n",
    "dist_mature_T = np.array([])\n",
    "dist_immature_T = np.array([])\n",
    "\n",
    "for sample in samplelist2:\n",
    "    df_meta = pd.read_csv(f'{HCC_meta_path}/{sample}_metadata_final.txt', index_col=0, sep='\\t')\n",
    "    df_dist = pd.read_csv(f'{dist_path}/{sample}.distance.tls.txt', index_col=0, sep='\\t')\n",
    "    df_tangram = pd.read_csv(f'{tangram_path}/{sample}.tangram.Clustermode.rst.txt', index_col=0, sep='\\t')\n",
    "    c2_bins = df_tangram.index[df_tangram['Cluster'] == 'Cluster_2']\n",
    "    tumor_region_bins = df_meta.index[~df_meta['Bin_Region'].isin(['B', 'P'])]\n",
    "    used_bins = c2_bins.intersection(tumor_region_bins)\n",
    "\n",
    "    sample_tls = df_meta.TLS_final.unique()\n",
    "    used_tls = all_tumor_tls.intersection(sample_tls)\n",
    "    if len(used_tls) > 0:\n",
    "        df_dist_c2 = df_dist.loc[used_bins, used_tls]\n",
    "        df_dist_c2 = df_dist_c2.T\n",
    "        df_dist_c2['Group'] = df_dist_c2.index.map(dic_tls_group)\n",
    "        if 'Mature' in list(df_dist_c2['Group']):\n",
    "            dist_mature_cur = df_dist_c2[df_dist_c2['Group'] == 'Mature'].iloc[:, :-1].values.flatten()\n",
    "            dist_mature_T = np.concatenate((dist_mature_T, dist_mature_cur))\n",
    "        if 'NotMature' in list(df_dist_c2['Group']):\n",
    "            dist_notmature_cur = df_dist_c2[df_dist_c2['Group'] == 'NotMature'].iloc[:, :-1].values.flatten()\n",
    "            dist_immature_T = np.concatenate((dist_immature_T, dist_notmature_cur))"
   ]
  },
  {
   "cell_type": "code",
   "execution_count": 31,
   "id": "1ec6b421-ee99-4d9c-be99-b0c8813ac630",
   "metadata": {},
   "outputs": [
    {
     "name": "stdout",
     "output_type": "stream",
     "text": [
      "Mature v.s. Deviating: Mann-Whitney-Wilcoxon test two-sided with Bonferroni correction, P_val=0.000e+00 U_stat=6.665e+10\n"
     ]
    },
    {
     "data": {
      "image/png": "[encoded data removed]",
      "text/plain": [
       "<Figure size 400x600 with 1 Axes>"
      ]
     },
     "metadata": {},
     "output_type": "display_data"
    }
   ],
   "source": [
    "# boxplot\n",
    "df_mature = pd.DataFrame(dist_mature_T, columns=['Dist'])\n",
    "df_mature['Group'] = ['Mature'] * df_mature.shape[0]\n",
    "\n",
    "df_immature = pd.DataFrame(dist_immature_T, columns=['Dist'])\n",
    "df_immature['Group'] = ['Deviating'] * df_immature.shape[0]\n",
    "\n",
    "df_plot_box = pd.concat((df_mature, df_immature))\n",
    "\n",
    "df_plot_box['Dist'] = df_plot_box['Dist'] * 25 / 1000\n",
    "\n",
    "plt.figure(figsize=(4, 6))\n",
    "# sns.violinplot(data=df_plot_box, x=\"Group\", y=\"Dist\", order=['Mature', 'Deviating'], palette={'Mature': '#FF006E', 'Conforming': '#9D4EDD', 'Deviating':'#4292c6'}, inner=None)\n",
    "ax = sns.boxplot(data=df_plot_box, x=\"Group\", y=\"Dist\", order=['Mature', 'Deviating'], palette={'Mature': '#FF006E', 'Conforming': '#9D4EDD', 'Deviating':'#4292c6'}, showfliers=False, notch=True)\n",
    "ax.set_title('scRNA-seq')\n",
    "ax.set_ylabel('Distance to TLS (mm)')\n",
    "add_stat_annotation(ax, data=df_plot_box, x=\"Group\", y=\"Dist\", order=['Mature', 'Deviating'], \n",
    "                        box_pairs=[(\"Mature\", \"Deviating\")],\n",
    "                        test='Mann-Whitney', text_format='simple', loc='inside', verbose=2)\n",
    "plt.show()"
   ]
  },
  {
   "cell_type": "markdown",
   "id": "edc5a4db-1dcc-4234-a42a-b54de1b017c0",
   "metadata": {},
   "source": [
    "### scATAC-seq"
   ]
  },
  {
   "cell_type": "code",
   "execution_count": 32,
   "id": "a2d980f6-b95e-4738-b57b-6ef642b3f0a9",
   "metadata": {},
   "outputs": [],
   "source": [
    "tangram_path = '/data/yuchen_data/Stereo_seq/All_Figures/Figure4/1.data/5.tangram_result_scATAC/'"
   ]
  },
  {
   "cell_type": "code",
   "execution_count": 33,
   "id": "a082a10b-a31c-4736-b996-d0a669487ba2",
   "metadata": {},
   "outputs": [
    {
     "name": "stderr",
     "output_type": "stream",
     "text": [
      "/tmp/ipykernel_5123/516488858.py:10: DtypeWarning: Columns (9) have mixed types. Specify dtype option on import or set low_memory=False.\n",
      "  df_meta = pd.read_csv(f'{HCC_meta_path}/{sample}_metadata_final.txt', index_col=0, sep='\\t')\n"
     ]
    }
   ],
   "source": [
    "samplelist_used = ['ST2837B', 'ST2893T', 'ST2907T', 'ST2976T']\n",
    "\n",
    "dist_mature = np.array([])\n",
    "dist_immature = np.array([])\n",
    "######### 只选取Tumor的TLS以及Tumor区域的Bin\n",
    "dist_mature_T = np.array([])\n",
    "dist_immature_T = np.array([])\n",
    "\n",
    "for sample in samplelist_used:\n",
    "    df_meta = pd.read_csv(f'{HCC_meta_path}/{sample}_metadata_final.txt', index_col=0, sep='\\t')\n",
    "    df_dist = pd.read_csv(f'{dist_path}/{sample}.distance.tls.txt', index_col=0, sep='\\t')\n",
    "    df_tangram = pd.read_csv(f'{tangram_path}/{sample}.tangram.Clustermode.rst.txt', index_col=0, sep='\\t')\n",
    "    c2_bins = df_tangram.index[df_tangram['Cluster'] == 'High']\n",
    "    tumor_region_bins = df_meta.index[~df_meta['Bin_Region'].isin(['B', 'P'])]\n",
    "    used_bins = c2_bins.intersection(tumor_region_bins)\n",
    "\n",
    "    sample_tls = df_meta.TLS_final.unique()\n",
    "    used_tls = all_tumor_tls.intersection(sample_tls)\n",
    "    if len(used_tls) > 0:\n",
    "        df_dist_c2 = df_dist.loc[used_bins, used_tls]\n",
    "        df_dist_c2 = df_dist_c2.T\n",
    "        df_dist_c2['Group'] = df_dist_c2.index.map(dic_tls_group)\n",
    "        if 'Mature' in list(df_dist_c2['Group']):\n",
    "            dist_mature_cur = df_dist_c2[df_dist_c2['Group'] == 'Mature'].iloc[:, :-1].values.flatten()\n",
    "            dist_mature_T = np.concatenate((dist_mature_T, dist_mature_cur))\n",
    "        if 'NotMature' in list(df_dist_c2['Group']):\n",
    "            dist_notmature_cur = df_dist_c2[df_dist_c2['Group'] == 'NotMature'].iloc[:, :-1].values.flatten()\n",
    "            dist_immature_T = np.concatenate((dist_immature_T, dist_notmature_cur))"
   ]
  },
  {
   "cell_type": "code",
   "execution_count": 35,
   "id": "2344ea7f-ddae-4aea-96e4-62264637ab2d",
   "metadata": {},
   "outputs": [
    {
     "name": "stdout",
     "output_type": "stream",
     "text": [
      "Mature v.s. Deviating: Mann-Whitney-Wilcoxon test two-sided with Bonferroni correction, P_val=0.000e+00 U_stat=6.747e+10\n"
     ]
    },
    {
     "data": {
      "image/png": "[encoded data removed]",
      "text/plain": [
       "<Figure size 400x600 with 1 Axes>"
      ]
     },
     "metadata": {},
     "output_type": "display_data"
    }
   ],
   "source": [
    "df_mature = pd.DataFrame(dist_mature_T, columns=['Dist'])\n",
    "df_mature['Group'] = ['Mature'] * df_mature.shape[0]\n",
    "\n",
    "df_immature = pd.DataFrame(dist_immature_T, columns=['Dist'])\n",
    "df_immature['Group'] = ['Deviating'] * df_immature.shape[0]\n",
    "\n",
    "df_plot_box = pd.concat((df_mature, df_immature))\n",
    "df_plot_box['Dist'] = df_plot_box['Dist'] * 25 / 1000\n",
    "\n",
    "plt.figure(figsize=(4, 6))\n",
    "# sns.violinplot(data=df_plot_box, x=\"Group\", y=\"Dist\", order=['Mature', 'Deviating'], palette={'Mature': '#FF006E', 'Conforming': '#9D4EDD', 'Deviating':'#4292c6'}, inner=None)\n",
    "ax = sns.boxplot(data=df_plot_box, x=\"Group\", y=\"Dist\", order=['Mature', 'Deviating'], palette={'Mature': '#FF006E', 'Conforming': '#9D4EDD', 'Deviating':'#4292c6'}, showfliers=False, notch=True)\n",
    "ax.set_title('scATAC-seq')\n",
    "ax.set_ylabel('Distance to TLS (mm)')\n",
    "add_stat_annotation(ax, data=df_plot_box, x=\"Group\", y=\"Dist\", order=['Mature', 'Deviating'], \n",
    "                        box_pairs=[(\"Mature\", \"Deviating\")],\n",
    "                        test='Mann-Whitney', text_format='simple', loc='inside', verbose=2)\n",
    "plt.show()"
   ]
  },
  {
   "cell_type": "code",
   "execution_count": null,
   "id": "68dfde1e-889d-4362-a5dd-cd9855617fda",
   "metadata": {},
   "outputs": [],
   "source": []
  }
 ],
 "metadata": {
  "kernelspec": {
   "display_name": "Python 3 (ipykernel)",
   "language": "python",
   "name": "python3"
  },
  "language_info": {
   "codemirror_mode": {
    "name": "ipython",
    "version": 3
   },
   "file_extension": ".py",
   "mimetype": "text/x-python",
   "name": "python",
   "nbconvert_exporter": "python",
   "pygments_lexer": "ipython3",
   "version": "3.8.16"
  }
 },
 "nbformat": 4,
 "nbformat_minor": 5
}
