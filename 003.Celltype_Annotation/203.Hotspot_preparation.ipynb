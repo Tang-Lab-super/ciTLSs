{
 "cells": [
  {
   "cell_type": "code",
   "execution_count": 1,
   "id": "2c369cd9-4ea0-4164-b958-0b99f4833a5b",
   "metadata": {},
   "outputs": [
    {
     "name": "stderr",
     "output_type": "stream",
     "text": [
      "The legacy packages maptools, rgdal, and rgeos, underpinning the sp package,\n",
      "which was just loaded, will retire in October 2023.\n",
      "Please refer to R-spatial evolution reports for details, especially\n",
      "https://r-spatial.org/r/2023/05/15/evolution4.html.\n",
      "It may be desirable to make the sf package available;\n",
      "package maintainers should consider adding sf to Suggests:.\n",
      "The sp package is now running under evolution status 2\n",
      "     (status 2 uses the sf package in place of rgdal)\n",
      "\n",
      "Attaching SeuratObject\n",
      "\n",
      "载入需要的程辑包：R6\n",
      "\n",
      "载入需要的程辑包：hdf5r\n",
      "\n"
     ]
    }
   ],
   "source": [
    "library(Seurat)\n",
    "library(loomR)"
   ]
  },
  {
   "cell_type": "code",
   "execution_count": 2,
   "id": "9c9464ed-cf9f-45e0-8bca-89c229726334",
   "metadata": {},
   "outputs": [],
   "source": [
    "hcc<-readRDS('HCC04_T_bin50_tissue_only_spotlight_Spatial.rds')"
   ]
  },
  {
   "cell_type": "code",
   "execution_count": 3,
   "id": "bec56bfa-7c6a-403e-9e83-98c743b81857",
   "metadata": {},
   "outputs": [],
   "source": [
    "nvg<-5000\n",
    "pro_name<-\"HCC04_T_bin50\"\n",
    "outdir<-\"./\""
   ]
  },
  {
   "cell_type": "code",
   "execution_count": 4,
   "id": "fb1f6c01-c84d-4705-8ce8-f9b431b6aeeb",
   "metadata": {},
   "outputs": [
    {
     "name": "stderr",
     "output_type": "stream",
     "text": [
      "Transposing input data: loom file will show input columns (cells) as rows and input rows (features) as columns\n",
      "\n",
      "This is to maintain compatibility with other loom tools\n",
      "\n"
     ]
    },
    {
     "name": "stdout",
     "output_type": "stream",
     "text": [
      "  |======================================================================| 100%\n"
     ]
    },
    {
     "name": "stderr",
     "output_type": "stream",
     "text": [
      "Adding: CellID\n",
      "\n",
      "Adding: Gene\n",
      "\n"
     ]
    }
   ],
   "source": [
    "## prepare loom file for expression matrix\n",
    "hcc@active.assay <- names(hcc@assays)[1]\n",
    "hcc <- FindVariableFeatures(hcc, nfeatures = nvg)\n",
    "spatial_mtx <- Seurat::GetAssayData(hcc)\n",
    "var_genes <- hcc@assays[[hcc@active.assay]]@var.features\n",
    "\n",
    "lf <- create(file.path(outdir, paste0(pro_name, \"_expmtx_nvg\", nvg, \".loom\")), spatial_mtx[var_genes, ], overwrite = T)\n",
    "lf$close_all()\n",
    "loom_fname <- file.path(outdir, paste0(pro_name, \"_expmtx_nvg\", nvg, \".loom\"))\n",
    "system(paste0(\"chmod 755 \", loom_fname))"
   ]
  },
  {
   "cell_type": "code",
   "execution_count": 5,
   "id": "9a13acdc-bdbf-4487-8a11-887a04728c1c",
   "metadata": {},
   "outputs": [],
   "source": [
    "## prepare csv file for spatial positions\n",
    "position <- data.frame(NAME = rownames(hcc@meta.data),\n",
    "                       X = hcc@images[[1]]@coordinates$col,\n",
    "                       Y = hcc@images[[1]]@coordinates$row)\n",
    "write.csv(position, file.path(outdir, paste0(pro_name, \"_cellpos.csv\")), row.names = F)"
   ]
  }
 ],
 "metadata": {
  "kernelspec": {
   "display_name": "R",
   "language": "R",
   "name": "ir"
  },
  "language_info": {
   "codemirror_mode": "r",
   "file_extension": ".r",
   "mimetype": "text/x-r-source",
   "name": "R",
   "pygments_lexer": "r",
   "version": "4.2.1"
  }
 },
 "nbformat": 4,
 "nbformat_minor": 5
}
