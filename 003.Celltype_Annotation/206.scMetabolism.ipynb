{
 "cells": [
  {
   "cell_type": "code",
   "execution_count": 1,
   "id": "4e81b312-fd3a-4238-bbee-af55ffa2778d",
   "metadata": {},
   "outputs": [],
   "source": [
    "library(scMetabolism)\n",
    "library(ggplot2)\n",
    "library(rsvd)\n",
    "library(pheatmap)"
   ]
  },
  {
   "cell_type": "markdown",
   "id": "4ecd2aa6-dc93-4378-a26c-7642b1e3358b",
   "metadata": {},
   "source": [
    "### read input files and calculate scores "
   ]
  },
  {
   "cell_type": "code",
   "execution_count": 2,
   "id": "387f56eb-2d07-47e5-8788-fc90fd24b6ff",
   "metadata": {},
   "outputs": [
    {
     "name": "stderr",
     "output_type": "stream",
     "text": [
      "载入需要的程辑包：SeuratObject\n",
      "\n",
      "载入需要的程辑包：sp\n",
      "\n",
      "The legacy packages maptools, rgdal, and rgeos, underpinning the sp package,\n",
      "which was just loaded, will retire in October 2023.\n",
      "Please refer to R-spatial evolution reports for details, especially\n",
      "https://r-spatial.org/r/2023/05/15/evolution4.html.\n",
      "It may be desirable to make the sf package available;\n",
      "package maintainers should consider adding sf to Suggests:.\n",
      "The sp package is now running under evolution status 2\n",
      "     (status 2 uses the sf package in place of rgdal)\n",
      "\n"
     ]
    },
    {
     "name": "stdout",
     "output_type": "stream",
     "text": [
      "Your choice is: KEGG\n",
      "Start quantify the metabolism activity...\n"
     ]
    },
    {
     "name": "stderr",
     "output_type": "stream",
     "text": [
      "Loading data from /home/fangqi/bin/R-4.2.1/lib/R/library/scMetabolism/data/KEGG_metabolism_nc.gmt ...\n",
      "\n",
      "Warning message in readSignaturesInput(signatures):\n",
      "“强制改变过程中产生了NA”\n",
      "\n",
      "Using 21107/31831 genes detected in 0.10% of cells for signature analysis.\n",
      "\n",
      "See the `sig_gene_threshold` input to change this behavior.\n",
      "\n",
      "\n",
      "Beginning Analysis\n",
      "\n",
      "\n",
      "Computing a latent space for expression data...\n",
      "\n",
      "\n",
      "Determining projection genes...\n",
      "\n",
      "    Applying Threshold filter...removing genes detected in less than 100 cells\n",
      "\n",
      "      Genes Retained: 5306\n",
      "\n",
      "    Applying Fano filter...removing genes with Fano < 2.0 MAD in each of 30 bins\n",
      "\n",
      "      Genes Retained: 715\n",
      "\n",
      "\n",
      "\n",
      "Clustering cells...\n",
      "\n",
      "Using latent space to cluster cells...\n",
      "\n",
      "completed\n",
      "\n",
      "\n",
      "Projecting data into 2 dimensions...\n",
      "\n",
      "  Running method 1/1: tSNE30 ...\n",
      "\n",
      "\n",
      "\n",
      "Evaluating signature scores on cells...\n",
      "\n",
      "\n",
      "as(<matrix>, \"dgeMatrix\") is deprecated since Matrix 1.5-0; do as(as(as(., \"dMatrix\"), \"generalMatrix\"), \"unpackedMatrix\") instead\n",
      "\n",
      "Evaluating signature-gene importance...\n",
      "\n",
      "\n",
      "Creating 5 background signature groups with the following parameters:\n",
      "\n"
     ]
    },
    {
     "name": "stdout",
     "output_type": "stream",
     "text": [
      "  sigSize sigBalance\n",
      "1       6          1\n",
      "2      12          1\n",
      "3      20          1\n",
      "4      33          1\n",
      "5      63          1\n"
     ]
    },
    {
     "name": "stderr",
     "output_type": "stream",
     "text": [
      "  signatures per group: 3000\n",
      "\n",
      "Computing KNN Cell Graph in the Latent Space...\n",
      "\n",
      "\n",
      "Evaluating local consistency of signatures in latent space...\n",
      "\n",
      "\n",
      "Clustering signatures...\n",
      "\n",
      "\n",
      "Computing differential signature tests...\n",
      "\n",
      "\n",
      "Computing correlations between signatures and latent space components...\n",
      "\n",
      "\n",
      "Analysis Complete!\n",
      "\n",
      "\n"
     ]
    }
   ],
   "source": [
    "hcc <- readRDS(\"HCC02_B_bin50_tissue_only_spotlight_Spatial.rds\")\n",
    "hcc@assays$RNA <- hcc@assays$Spatial\n",
    "hcc <- sc.metabolism.Seurat(obj = hcc, method = \"VISION\", imputation = F, ncores = 2, metabolism.type = \"KEGG\")\n",
    "input.pathway <- rownames(hcc@assays$METABOLISM$score)"
   ]
  },
  {
   "cell_type": "markdown",
   "id": "6025fb97-9384-4bc6-bbe9-9002ce97e4b2",
   "metadata": {},
   "source": [
    "### plot results"
   ]
  },
  {
   "cell_type": "code",
   "execution_count": 3,
   "id": "8ac178ee-6006-4639-967c-33237bf1d2ed",
   "metadata": {},
   "outputs": [
    {
     "data": {
      "text/html": [
       "<strong>png:</strong> 2"
      ],
      "text/latex": [
       "\\textbf{png:} 2"
      ],
      "text/markdown": [
       "**png:** 2"
      ],
      "text/plain": [
       "png \n",
       "  2 "
      ]
     },
     "metadata": {},
     "output_type": "display_data"
    }
   ],
   "source": [
    "p1 <- DotPlot.metabolism(obj=hcc,pathway=input.pathway,phenotype=\"SpotLight_Anno\",norm=\"y\")\n",
    "pdf(\"HCC02_B_scmetabolism_dotplot.pdf\",width=10,height=15)\n",
    "print(p1)\n",
    "dev.off()"
   ]
  },
  {
   "cell_type": "code",
   "execution_count": 4,
   "id": "731d97e5-710b-46f6-baa1-3125683dfb77",
   "metadata": {},
   "outputs": [
    {
     "name": "stderr",
     "output_type": "stream",
     "text": [
      "载入需要的程辑包：Seurat\n",
      "\n"
     ]
    }
   ],
   "source": [
    "sce_Metal_exp <- hcc\n",
    "sce_Metal_exp$celltype <- sce_Metal_exp$SpotLight_Anno\n",
    "mscore_data <- data.frame(t(sce_Metal_exp@assays[[\"METABOLISM\"]][[\"score\"]]),sce_Metal_exp$celltype)\n",
    "avg_sM <- aggregate(mscore_data[,1:ncol(mscore_data)-1],list(mscore_data$sce_Metal_exp.celltype),mean)\n",
    "rownames(avg_sM) = avg_sM$Group.1\n",
    "avg_sM <- data.frame(t(avg_sM[,-1]))\n",
    "avg_sM$KEGG = rownames(sce_Metal_exp@assays[[\"METABOLISM\"]][[\"score\"]])\n",
    "rownames(avg_sM) <- avg_sM$KEGG\n",
    "\n",
    "pheatmap(avg_sM[,-ncol(avg_sM)],\n",
    "         show_colnames = T,\n",
    "         scale='row',\n",
    "         cellwidth = 15, \n",
    "         cellheight = 10, \n",
    "         fontsize = 6, \n",
    "         filename = \"HCC02_B_scmetabolism_avg_sM.pdf\")"
   ]
  },
  {
   "cell_type": "code",
   "execution_count": 5,
   "id": "621f6f7e-2a98-43be-b809-82fd036e1ebb",
   "metadata": {},
   "outputs": [],
   "source": [
    "c_k_l <- c()\n",
    "for(c in c(1:ncol(avg_sM))){\n",
    "  c_k <- avg_sM[order(avg_sM[,c]),]$KEGG[1:5]\n",
    "  c_k_l <- c(c_k_l,c_k)\n",
    "}\n",
    "c_k_l= unique(c_k_l)\n",
    "c_k_d = avg_sM[avg_sM$KEGG %in%c_k_l,]\n",
    "rownames(c_k_d) = c_k_d$KEGG\n",
    "\n",
    "pheatmap(c_k_d[,-ncol(c_k_d)], \n",
    "         show_colnames = T, \n",
    "         scale='row',\n",
    "         cellwidth = 15, \n",
    "         cellheight = 10, \n",
    "         fontsize = 6, \n",
    "         filename = \"HCC02_B_kegg_ckd.pdf\")"
   ]
  },
  {
   "cell_type": "code",
   "execution_count": 6,
   "id": "b34d88aa-4cc6-41de-9cc3-b87bb0ca312c",
   "metadata": {},
   "outputs": [],
   "source": [
    "write.csv(hcc@assays[[\"METABOLISM\"]][[\"score\"]],\"HCC02_B_bin50.scMetabolism.allBins.csv\")\n",
    "write.csv(avg_sM,\"HCC02_B_bin50.scMetabolism.allCelltypes.csv\")"
   ]
  }
 ],
 "metadata": {
  "kernelspec": {
   "display_name": "R",
   "language": "R",
   "name": "ir"
  },
  "language_info": {
   "codemirror_mode": "r",
   "file_extension": ".r",
   "mimetype": "text/x-r-source",
   "name": "R",
   "pygments_lexer": "r",
   "version": "4.2.1"
  }
 },
 "nbformat": 4,
 "nbformat_minor": 5
}
