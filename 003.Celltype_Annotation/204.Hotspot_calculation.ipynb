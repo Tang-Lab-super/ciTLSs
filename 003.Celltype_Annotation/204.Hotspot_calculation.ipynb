{
 "cells": [
  {
   "cell_type": "code",
   "execution_count": 1,
   "id": "6d3edf89-a1cf-4e72-a276-328f493f9f6b",
   "metadata": {},
   "outputs": [],
   "source": [
    "import os\n",
    "import glob\n",
    "import sys\n",
    "import numpy as np\n",
    "import pandas as pd\n",
    "import hotspot\n",
    "import matplotlib.pyplot as plt\n",
    "import matplotlib.colors\n",
    "import seaborn as sns\n",
    "import pickle\n",
    "import loompy as lp\n",
    "sys.setrecursionlimit(3000)"
   ]
  },
  {
   "cell_type": "markdown",
   "id": "b8908e03-1fc0-4ffa-8b8f-e1185da08ca7",
   "metadata": {},
   "source": [
    "### input files"
   ]
  },
  {
   "cell_type": "code",
   "execution_count": 2,
   "id": "c6bcaecc-741c-4ae3-8a62-0dc83e8be977",
   "metadata": {},
   "outputs": [],
   "source": [
    "counts_file = \"HCC04_T_bin50_expmtx_nvg5000.loom\"\n",
    "pos_file = \"HCC04_T_bin50_cellpos.csv\"\n",
    "outdir = \"HCC04_T_bin50\"\n",
    "proname = 'HCC04_T_bin50_expmtx_nvg5000'\n",
    "if not os.path.exists(outdir):\n",
    "    os.makedirs(outdir)"
   ]
  },
  {
   "cell_type": "markdown",
   "id": "babcbb58-5737-4ff5-9a17-345d4e50be51",
   "metadata": {},
   "source": [
    "### load expression counts and spatial positions"
   ]
  },
  {
   "cell_type": "code",
   "execution_count": 3,
   "id": "184f4d62-80bb-4c29-abf0-3b423a2be6a3",
   "metadata": {},
   "outputs": [],
   "source": [
    "FTYPE = os.path.splitext(os.path.basename(counts_file))[1]\n",
    "SUPPORTED_SC_EXP_FTYPE = [\".csv\", \".loom\"]\n",
    "if not FTYPE in SUPPORTED_SC_EXP_FTYPE:\n",
    "    raise SystemExit(\n",
    "        f'Supported expression matrix formats are {SUPPORTED_SC_EXP_FTYPE}, filename extension must be consistent with contents')\n",
    "HS_RESULTS = ''.join([outdir,\"/\",proname,\"_hs_results.p\"])\n",
    "LCZ = ''.join([outdir, \"/\", proname, \"_lcz.p\"])\n",
    "MODULES = ''.join([outdir, \"/\", proname, \"_modules.p\"])\n",
    "HOTSPOT = ''.join([outdir, \"/\", proname, \"_hotspot.p\"])\n",
    "\n",
    "if FTYPE==\".csv\":\n",
    "    counts = pd.read_csv(counts_file, index_col=0) # Takes a while, ~10min\n",
    "if FTYPE==\".loom\":\n",
    "    lf = lp.connect(counts_file, mode='r', validate=False)\n",
    "    counts = pd.DataFrame(lf[:, :],\n",
    "                             index=lf.ra[\"Gene\"],\n",
    "                             columns=lf.ca[\"CellID\"],\n",
    "                             dtype=np.int64)\n",
    "    lf.close()\n",
    "\n",
    "pos = pd.read_csv(pos_file, index_col=0)"
   ]
  },
  {
   "cell_type": "markdown",
   "id": "d9a2a472-c184-439c-b15b-992c64176fa0",
   "metadata": {},
   "source": [
    "### align indices"
   ]
  },
  {
   "cell_type": "code",
   "execution_count": 4,
   "id": "13213c83-24eb-4336-976c-2583f8c1eeca",
   "metadata": {},
   "outputs": [],
   "source": [
    "pos = pos.loc[counts.columns, :]\n",
    "counts = counts.loc[:, pos.index]\n",
    "barcodes = pos.index.values\n",
    "pos = pd.DataFrame(\n",
    "    {\n",
    "        'X': pos.X,\n",
    "        'Y': pos.Y,\n",
    "    }, index=pos.index\n",
    ")\n",
    "\n",
    "num_umi = counts.sum(axis=0)"
   ]
  },
  {
   "cell_type": "markdown",
   "id": "c6116beb-d274-4dae-8c28-cee6cf7a247d",
   "metadata": {},
   "source": [
    "### create the Hotspot object and the neighborhood graph"
   ]
  },
  {
   "cell_type": "code",
   "execution_count": 5,
   "id": "f67b64a4-45ac-4804-8b1a-43c3803ccb24",
   "metadata": {},
   "outputs": [
    {
     "name": "stderr",
     "output_type": "stream",
     "text": [
      "100%|██████████████████████████████████████████████████████████████████████████████████████████████████████████████████████████████████████████████████████████████████████████████████████████████████████████████████████████████████████████████████████████| 5000/5000 [02:22<00:00, 35.08it/s]\n"
     ]
    }
   ],
   "source": [
    "hs = hotspot.Hotspot(counts, model='normal', latent=pos, umi_counts=num_umi)\n",
    "hs.create_knn_graph(weighted_graph=False, n_neighbors=30)\n",
    "hs_results = hs.compute_autocorrelations(jobs=20)\n",
    "with open(HS_RESULTS, \"wb\") as f:\n",
    "    pickle.dump(hs_results,f)"
   ]
  },
  {
   "cell_type": "markdown",
   "id": "e0de86a9-7cf0-4024-a3ff-5b9b28270d36",
   "metadata": {},
   "source": [
    "### select genes with significant spatial autocorrelation"
   ]
  },
  {
   "cell_type": "code",
   "execution_count": 6,
   "id": "ffbfa337-cd91-49f8-abb5-30fd5670d1d8",
   "metadata": {},
   "outputs": [],
   "source": [
    "hs_genes = hs_results.index[hs_results.FDR < 0.05]"
   ]
  },
  {
   "cell_type": "markdown",
   "id": "f5523e2e-3aef-4ecf-b26e-1db5104abc5b",
   "metadata": {},
   "source": [
    "### compute pair-wise local correlations between selected genes"
   ]
  },
  {
   "cell_type": "code",
   "execution_count": 7,
   "id": "7cabb35c-e47a-45b2-84b9-32d38d46f577",
   "metadata": {},
   "outputs": [
    {
     "name": "stdout",
     "output_type": "stream",
     "text": [
      "Computing pair-wise local correlation on 1255 features...\n"
     ]
    },
    {
     "name": "stderr",
     "output_type": "stream",
     "text": [
      "100%|█████████████████████████████████████████████████████████████████████████████████████████████████████████████████████████████████████████████████████████████████████████████████████████████████████████████████████████████████████████████████████████| 1255/1255 [00:05<00:00, 229.43it/s]\n",
      "100%|████████████████████████████████████████████████████████████████████████████████████████████████████████████████████████████████████████████████████████████████████████████████████████████████████████████████████████████████████████████████████| 786885/786885 [05:11<00:00, 2527.61it/s]\n"
     ]
    },
    {
     "name": "stdout",
     "output_type": "stream",
     "text": [
      "Computing scores for 13 modules...\n"
     ]
    },
    {
     "name": "stderr",
     "output_type": "stream",
     "text": [
      "100%|██████████████████████████████████████████████████████████████████████████████████████████████████████████████████████████████████████████████████████████████████████████████████████████████████████████████████████████████████████████████████████████████| 13/13 [00:20<00:00,  1.55s/it]\n"
     ]
    }
   ],
   "source": [
    "lcz = hs.compute_local_correlations(hs_genes, jobs=20)\n",
    "\n",
    "with open(LCZ, \"wb\") as f:\n",
    "    pickle.dump(lcz,f)\n",
    "\n",
    "\n",
    "modules = hs.create_modules(\n",
    "    min_gene_threshold=20, core_only=False, fdr_threshold=0.05\n",
    ")\n",
    "\n",
    "with open(MODULES, \"wb\") as f:\n",
    "    pickle.dump(modules, f)\n",
    "\n",
    "\n",
    "with open(HOTSPOT, \"wb\") as f:\n",
    "    pickle.dump(hs,f)\n",
    "\n",
    "plt.rcParams['figure.figsize'] = (15.0, 12.0)\n",
    "\n",
    "hs.plot_local_correlations()\n",
    "\n",
    "plt.savefig(''.join([outdir, \"/\", proname, \"_module_number.png\"]), dpi = 600)\n",
    "plt.close()\n",
    "\n",
    "results = hs.results.join(hs.modules)\n",
    "results.to_csv(''.join([outdir, \"/\", proname, \"_Cluster.csv\"]))\n",
    "\n",
    "module_scores = hs.calculate_module_scores()\n",
    "module_scores.to_csv(''.join([outdir, \"/\", proname, \"_ModuleScore.csv\"]))\n",
    "\n",
    "if not os.path.exists(f'{outdir}/ModuleFig'):\n",
    "    os.makedirs(f'{outdir}/ModuleFig')\n",
    "for module in range(1, hs.modules.max()+1):\n",
    "    scores = hs.module_scores[module]\n",
    "\n",
    "    vmin = np.percentile(scores, 1)\n",
    "    vmax = np.percentile(scores, 99)\n",
    "\n",
    "    plt.scatter(x=hs.latent.iloc[:, 0],\n",
    "                y=hs.latent.iloc[:, 1],\n",
    "                s=8,\n",
    "                c=scores,\n",
    "                vmin=vmin,\n",
    "                vmax=vmax,\n",
    "                edgecolors='none'\n",
    "                )\n",
    "    axes = plt.gca()\n",
    "    for sp in axes.spines.values():\n",
    "        sp.set_visible(False)\n",
    "    plt.xticks([])\n",
    "    plt.yticks([])\n",
    "    plt.title('Module {}'.format(module))\n",
    "    plt.savefig(f'{outdir}/ModuleFig/Module{module}.png')\n",
    "    plt.close()"
   ]
  }
 ],
 "metadata": {
  "kernelspec": {
   "display_name": "spateo",
   "language": "python",
   "name": "spateo"
  },
  "language_info": {
   "codemirror_mode": {
    "name": "ipython",
    "version": 3
   },
   "file_extension": ".py",
   "mimetype": "text/x-python",
   "name": "python",
   "nbconvert_exporter": "python",
   "pygments_lexer": "ipython3",
   "version": "3.9.15"
  }
 },
 "nbformat": 4,
 "nbformat_minor": 5
}
