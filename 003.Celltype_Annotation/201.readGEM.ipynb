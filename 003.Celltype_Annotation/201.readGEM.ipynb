{
 "cells": [
  {
   "cell_type": "code",
   "execution_count": 1,
   "id": "a99309a1-5b08-4442-acf3-d7e2d3b1d54a",
   "metadata": {},
   "outputs": [
    {
     "name": "stderr",
     "output_type": "stream",
     "text": [
      "2023-06-27 16:33:56.494431: I tensorflow/core/platform/cpu_feature_guard.cc:193] This TensorFlow binary is optimized with oneAPI Deep Neural Network Library (oneDNN) to use the following CPU instructions in performance-critical operations:  AVX2 AVX512F AVX512_VNNI FMA\n",
      "To enable them in other operations, rebuild TensorFlow with the appropriate compiler flags.\n",
      "2023-06-27 16:33:57.464023: I tensorflow/core/util/port.cc:104] oneDNN custom operations are on. You may see slightly different numerical results due to floating-point round-off errors from different computation orders. To turn them off, set the environment variable `TF_ENABLE_ONEDNN_OPTS=0`.\n",
      "2023-06-27 16:34:02.928618: W tensorflow/compiler/xla/stream_executor/platform/default/dso_loader.cc:64] Could not load dynamic library 'libnvinfer.so.7'; dlerror: libnvinfer.so.7: cannot open shared object file: No such file or directory; LD_LIBRARY_PATH: /DATA/TLS/Users/fangqi/home/miniconda3/envs/spateo/lib/python3.9/site-packages/cv2/../../lib64:\n",
      "2023-06-27 16:34:02.928763: W tensorflow/compiler/xla/stream_executor/platform/default/dso_loader.cc:64] Could not load dynamic library 'libnvinfer_plugin.so.7'; dlerror: libnvinfer_plugin.so.7: cannot open shared object file: No such file or directory; LD_LIBRARY_PATH: /DATA/TLS/Users/fangqi/home/miniconda3/envs/spateo/lib/python3.9/site-packages/cv2/../../lib64:\n",
      "2023-06-27 16:34:02.928780: W tensorflow/compiler/tf2tensorrt/utils/py_utils.cc:38] TF-TRT Warning: Cannot dlopen some TensorRT libraries. If you would like to use Nvidia GPU with TensorRT, please make sure the missing libraries mentioned above are installed properly.\n",
      "/home/fangqi/miniconda3/envs/spateo/lib/python3.9/site-packages/spaghetti/network.py:39: FutureWarning:\n",
      "\n",
      "The next major release of pysal/spaghetti (2.0.0) will drop support for all ``libpysal.cg`` geometries. This change is a first step in refactoring ``spaghetti`` that is expected to result in dramatically reduced runtimes for network instantiation and operations. Users currently requiring network and point pattern input as ``libpysal.cg`` geometries should prepare for this simply by converting to ``shapely`` geometries.\n",
      "\n"
     ]
    }
   ],
   "source": [
    "import spateo as st"
   ]
  },
  {
   "cell_type": "code",
   "execution_count": 2,
   "id": "d6040b31-3f4b-48b6-8869-8b4d91e6c934",
   "metadata": {},
   "outputs": [
    {
     "name": "stdout",
     "output_type": "stream",
     "text": [
      "|-----> Using binsize=50\n"
     ]
    },
    {
     "name": "stderr",
     "output_type": "stream",
     "text": [
      "IOStream.flush timed out\n"
     ]
    },
    {
     "name": "stdout",
     "output_type": "stream",
     "text": [
      "|-----> Constructing count matrices.\n",
      "|-----> <insert> __type to uns in AnnData Object.\n",
      "|-----> <insert> pp to uns in AnnData Object.\n",
      "|-----> <insert> spatial to uns in AnnData Object.\n"
     ]
    }
   ],
   "source": [
    "adata = st.io.read_bgi(\"HCC02_B.gem.gz\", binsize=50)"
   ]
  },
  {
   "cell_type": "code",
   "execution_count": 3,
   "id": "9879a3ae-0655-4a93-8c84-2a99cb3aa867",
   "metadata": {},
   "outputs": [
    {
     "data": {
      "text/plain": [
       "AnnData object with n_obs × n_vars = 170613 × 31831\n",
       "    obs: 'area'\n",
       "    uns: '__type', 'pp', 'spatial'\n",
       "    obsm: 'spatial', 'contour', 'bbox'"
      ]
     },
     "execution_count": 3,
     "metadata": {},
     "output_type": "execute_result"
    }
   ],
   "source": [
    "adata"
   ]
  },
  {
   "cell_type": "code",
   "execution_count": 4,
   "id": "c624f7d7-ce60-4668-b790-dd8841257b40",
   "metadata": {},
   "outputs": [],
   "source": [
    "adata.write(\"HCC02_B_bin50_spatialObj.h5ad\", compression='gzip')"
   ]
  },
  {
   "cell_type": "markdown",
   "id": "f6c662d9-8df5-4938-9118-b400fd1e75ba",
   "metadata": {},
   "source": [
    "## tissue segmentation, please refer to *spateo* tutorials\n",
    "https://spateo-release.readthedocs.io/en/latest/tutorials/notebooks/7_interactive_tools/1_auxseg_livewire.html"
   ]
  }
 ],
 "metadata": {
  "kernelspec": {
   "display_name": "spateo",
   "language": "python",
   "name": "spateo"
  },
  "language_info": {
   "codemirror_mode": {
    "name": "ipython",
    "version": 3
   },
   "file_extension": ".py",
   "mimetype": "text/x-python",
   "name": "python",
   "nbconvert_exporter": "python",
   "pygments_lexer": "ipython3",
   "version": "3.9.15"
  }
 },
 "nbformat": 4,
 "nbformat_minor": 5
}
