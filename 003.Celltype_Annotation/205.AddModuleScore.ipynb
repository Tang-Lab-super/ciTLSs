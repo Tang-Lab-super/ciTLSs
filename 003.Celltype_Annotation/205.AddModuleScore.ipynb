{
 "cells": [
  {
   "cell_type": "code",
   "execution_count": 1,
   "id": "c49049d4-92ef-4a99-9add-fe60947e9409",
   "metadata": {},
   "outputs": [
    {
     "name": "stderr",
     "output_type": "stream",
     "text": [
      "The legacy packages maptools, rgdal, and rgeos, underpinning the sp package,\n",
      "which was just loaded, will retire in October 2023.\n",
      "Please refer to R-spatial evolution reports for details, especially\n",
      "https://r-spatial.org/r/2023/05/15/evolution4.html.\n",
      "It may be desirable to make the sf package available;\n",
      "package maintainers should consider adding sf to Suggests:.\n",
      "The sp package is now running under evolution status 2\n",
      "     (status 2 uses the sf package in place of rgdal)\n",
      "\n",
      "Attaching SeuratObject\n",
      "\n"
     ]
    }
   ],
   "source": [
    "library(Seurat)"
   ]
  },
  {
   "cell_type": "code",
   "execution_count": 2,
   "id": "89a9e068-5aeb-44d7-98b1-614bd7204f65",
   "metadata": {},
   "outputs": [],
   "source": [
    "icc<-readRDS('HCC04_T_bin50_tissue_only_spotlight_Spatial.rds')"
   ]
  },
  {
   "cell_type": "code",
   "execution_count": 3,
   "id": "6c389656-d42f-4c39-8cc6-8d13cf85d776",
   "metadata": {},
   "outputs": [],
   "source": [
    "df1<-read.csv('HCC_chemokine.csv',header = FALSE)\n",
    "df2<-read.csv('HCC_TLSmarkers.csv',header = FALSE)\n",
    "colnames(df1)<-'chemokine'\n",
    "colnames(df2)<-'TLSmarkers'"
   ]
  },
  {
   "cell_type": "code",
   "execution_count": 4,
   "id": "0beb4504-0b60-49e7-9f1d-f8a40d2b5fcf",
   "metadata": {},
   "outputs": [],
   "source": [
    "genes<-as.character(df1[,1])\n",
    "icc<-AddModuleScore(icc,features = list(genes),\n",
    "                    \n",
    "                    name=paste0('chemokine',\"_scores\"))\n",
    "\n",
    "genes<-as.character(df2[,1])\n",
    "icc<-AddModuleScore(icc,features = list(genes),\n",
    "                             name=paste0('TLSmarkers',\"_scores\"))"
   ]
  },
  {
   "cell_type": "code",
   "execution_count": 5,
   "id": "201f4006-2928-4da0-8e03-e8f7c4ea2104",
   "metadata": {},
   "outputs": [],
   "source": [
    "df<-icc@meta.data[,c('row','col','chemokine_scores1')]\n",
    "write.csv(df,'HCC04_T_chemokine_scores.csv')"
   ]
  },
  {
   "cell_type": "code",
   "execution_count": 6,
   "id": "08432990-099b-47a4-948a-291f7719461b",
   "metadata": {},
   "outputs": [],
   "source": [
    "df<-icc@meta.data[,c('row','col','TLSmarkers_scores1')]\n",
    "write.csv(df,'HCC04_T_TLSmarkers_scores.csv')"
   ]
  }
 ],
 "metadata": {
  "kernelspec": {
   "display_name": "R",
   "language": "R",
   "name": "ir"
  },
  "language_info": {
   "codemirror_mode": "r",
   "file_extension": ".r",
   "mimetype": "text/x-r-source",
   "name": "R",
   "pygments_lexer": "r",
   "version": "4.2.1"
  }
 },
 "nbformat": 4,
 "nbformat_minor": 5
}
